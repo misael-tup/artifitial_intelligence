{
 "cells": [
  {
   "cell_type": "markdown",
   "id": "30f9dd80",
   "metadata": {},
   "source": [
    "# Sample variance and standard deviation"
   ]
  },
  {
   "cell_type": "markdown",
   "id": "6e72530c",
   "metadata": {},
   "source": [
    "## Importing libraries"
   ]
  },
  {
   "cell_type": "code",
   "execution_count": 81,
   "id": "1a987c21",
   "metadata": {},
   "outputs": [],
   "source": [
    "import pandas as pd\n",
    "import numpy as np\n",
    "import matplotlib.pyplot as plt\n",
    "import seaborn as sns\n",
    "from scipy import stats"
   ]
  },
  {
   "cell_type": "markdown",
   "id": "a105429d",
   "metadata": {},
   "source": [
    "## Reading database from URL"
   ]
  },
  {
   "cell_type": "code",
   "execution_count": 82,
   "id": "6923462f",
   "metadata": {},
   "outputs": [],
   "source": [
    "url = 'https://archive.ics.uci.edu/ml/machine-learning-databases/iris/iris.data'\n",
    "names = ['sepal-length', 'sepal-width', 'petal-length', 'petal-width','class']\n",
    "iris = pd.read_csv(url, names= names)"
   ]
  },
  {
   "cell_type": "code",
   "execution_count": 83,
   "id": "5947f54e",
   "metadata": {},
   "outputs": [
    {
     "data": {
      "text/html": [
       "<div>\n",
       "<style scoped>\n",
       "    .dataframe tbody tr th:only-of-type {\n",
       "        vertical-align: middle;\n",
       "    }\n",
       "\n",
       "    .dataframe tbody tr th {\n",
       "        vertical-align: top;\n",
       "    }\n",
       "\n",
       "    .dataframe thead th {\n",
       "        text-align: right;\n",
       "    }\n",
       "</style>\n",
       "<table border=\"1\" class=\"dataframe\">\n",
       "  <thead>\n",
       "    <tr style=\"text-align: right;\">\n",
       "      <th></th>\n",
       "      <th>sepal-length</th>\n",
       "      <th>sepal-width</th>\n",
       "      <th>petal-length</th>\n",
       "      <th>petal-width</th>\n",
       "      <th>class</th>\n",
       "    </tr>\n",
       "  </thead>\n",
       "  <tbody>\n",
       "    <tr>\n",
       "      <th>0</th>\n",
       "      <td>5.1</td>\n",
       "      <td>3.5</td>\n",
       "      <td>1.4</td>\n",
       "      <td>0.2</td>\n",
       "      <td>Iris-setosa</td>\n",
       "    </tr>\n",
       "    <tr>\n",
       "      <th>1</th>\n",
       "      <td>4.9</td>\n",
       "      <td>3.0</td>\n",
       "      <td>1.4</td>\n",
       "      <td>0.2</td>\n",
       "      <td>Iris-setosa</td>\n",
       "    </tr>\n",
       "    <tr>\n",
       "      <th>2</th>\n",
       "      <td>4.7</td>\n",
       "      <td>3.2</td>\n",
       "      <td>1.3</td>\n",
       "      <td>0.2</td>\n",
       "      <td>Iris-setosa</td>\n",
       "    </tr>\n",
       "    <tr>\n",
       "      <th>3</th>\n",
       "      <td>4.6</td>\n",
       "      <td>3.1</td>\n",
       "      <td>1.5</td>\n",
       "      <td>0.2</td>\n",
       "      <td>Iris-setosa</td>\n",
       "    </tr>\n",
       "    <tr>\n",
       "      <th>4</th>\n",
       "      <td>5.0</td>\n",
       "      <td>3.6</td>\n",
       "      <td>1.4</td>\n",
       "      <td>0.2</td>\n",
       "      <td>Iris-setosa</td>\n",
       "    </tr>\n",
       "  </tbody>\n",
       "</table>\n",
       "</div>"
      ],
      "text/plain": [
       "   sepal-length  sepal-width  petal-length  petal-width        class\n",
       "0           5.1          3.5           1.4          0.2  Iris-setosa\n",
       "1           4.9          3.0           1.4          0.2  Iris-setosa\n",
       "2           4.7          3.2           1.3          0.2  Iris-setosa\n",
       "3           4.6          3.1           1.5          0.2  Iris-setosa\n",
       "4           5.0          3.6           1.4          0.2  Iris-setosa"
      ]
     },
     "execution_count": 83,
     "metadata": {},
     "output_type": "execute_result"
    }
   ],
   "source": [
    "iris.head()"
   ]
  },
  {
   "cell_type": "markdown",
   "id": "8255d0fb",
   "metadata": {},
   "source": [
    "### Descriptive image"
   ]
  },
  {
   "cell_type": "markdown",
   "id": "c6e11ede",
   "metadata": {},
   "source": [
    "<img src='petal_sepal.jpeg'>"
   ]
  },
  {
   "cell_type": "markdown",
   "id": "21bc9243",
   "metadata": {},
   "source": [
    "## Histogram"
   ]
  },
  {
   "cell_type": "code",
   "execution_count": 84,
   "id": "b9fccd20",
   "metadata": {},
   "outputs": [
    {
     "data": {
      "text/plain": [
       "(array([ 1.,  3.,  1.,  4.,  2.,  5.,  6., 10.,  9.,  4.,  1.,  6.,  7.,\n",
       "         6.,  8.,  7.,  3.,  6.,  6., 13.,  0.,  7.,  5.,  2., 11.,  0.,\n",
       "         4.,  2.,  0.,  4.,  0.,  1.,  1.,  4.,  0.,  1.]),\n",
       " array([4.3, 4.4, 4.5, 4.6, 4.7, 4.8, 4.9, 5. , 5.1, 5.2, 5.3, 5.4, 5.5,\n",
       "        5.6, 5.7, 5.8, 5.9, 6. , 6.1, 6.2, 6.3, 6.4, 6.5, 6.6, 6.7, 6.8,\n",
       "        6.9, 7. , 7.1, 7.2, 7.3, 7.4, 7.5, 7.6, 7.7, 7.8, 7.9]),\n",
       " <BarContainer object of 36 artists>)"
      ]
     },
     "execution_count": 84,
     "metadata": {},
     "output_type": "execute_result"
    },
    {
     "data": {
      "image/png": "[encoded data removed]",
      "text/plain": [
       "<Figure size 640x480 with 1 Axes>"
      ]
     },
     "metadata": {},
     "output_type": "display_data"
    }
   ],
   "source": [
    "plt.hist(iris['sepal-length'], color = 'orange', bins = int(180/5))\n"
   ]
  },
  {
   "cell_type": "markdown",
   "id": "aee3150d",
   "metadata": {},
   "source": [
    "### Q-Q Chart (Quantile-Quantile)\n",
    "This graph compares observed quantiles with expected quantiles of a normal distribution. If the points on the graph approximately follow a diagonal line, the distribution resembles normal."
   ]
  },
  {
   "cell_type": "code",
   "execution_count": 85,
   "id": "5a45b06c",
   "metadata": {},
   "outputs": [
    {
     "data": {
      "image/png": "[encoded data removed]",
      "text/plain": [
       "<Figure size 640x480 with 1 Axes>"
      ]
     },
     "metadata": {},
     "output_type": "display_data"
    }
   ],
   "source": [
    "stats.probplot(iris['sepal-length'], dist= \"norm\", plot=plt)\n",
    "plt.show()"
   ]
  },
  {
   "cell_type": "markdown",
   "id": "effd9f6c",
   "metadata": {},
   "source": [
    "###  Shapiro-Wilk test"
   ]
  },
  {
   "cell_type": "code",
   "execution_count": 86,
   "id": "5518299f",
   "metadata": {},
   "outputs": [
    {
     "name": "stdout",
     "output_type": "stream",
     "text": [
      "It does not look like normal distribution\n"
     ]
    }
   ],
   "source": [
    "_, p_value = stats.shapiro(iris['sepal-length'])\n",
    "if p_value > 0.05:\n",
    "    print(\"It looks like normal distribution\")\n",
    "else:\n",
    "    print(\"It does not look like normal distribution\")"
   ]
  },
  {
   "cell_type": "markdown",
   "id": "497f3626",
   "metadata": {},
   "source": [
    "###  Kolmogorov-Smirnov test"
   ]
  },
  {
   "cell_type": "code",
   "execution_count": 87,
   "id": "7f26f3f0",
   "metadata": {},
   "outputs": [
    {
     "name": "stdout",
     "output_type": "stream",
     "text": [
      "It does not look like normal distribution\n"
     ]
    }
   ],
   "source": [
    "_, p_value = stats.kstest(iris['sepal-length'], 'norm')\n",
    "if p_value > 0.05:\n",
    "    print(\"It looks like normal distribution\")\n",
    "else:\n",
    "    print(\"It does not look like normal distribution\")"
   ]
  },
  {
   "cell_type": "markdown",
   "id": "1142e0fc",
   "metadata": {},
   "source": [
    "### Distplot: a combination of histogram and kernel density plot (KDE)"
   ]
  },
  {
   "cell_type": "code",
   "execution_count": 88,
   "id": "1a5ea63b",
   "metadata": {},
   "outputs": [
    {
     "name": "stderr",
     "output_type": "stream",
     "text": [
      "C:\\Users\\Lenovo\\AppData\\Local\\Temp\\ipykernel_17820\\250269626.py:1: UserWarning: \n",
      "\n",
      "`distplot` is a deprecated function and will be removed in seaborn v0.14.0.\n",
      "\n",
      "Please adapt your code to use either `displot` (a figure-level function with\n",
      "similar flexibility) or `histplot` (an axes-level function for histograms).\n",
      "\n",
      "For a guide to updating your code to use the new functions, please see\n",
      "https://gist.github.com/mwaskom/de44147ed2974457ad6372750bbe5751\n",
      "\n",
      "  sns.distplot(iris['sepal-length'], hist=True, kde = True, bins= int(180/5), color = 'orange')\n"
     ]
    },
    {
     "data": {
      "text/plain": [
       "<Axes: xlabel='sepal-length', ylabel='Density'>"
      ]
     },
     "execution_count": 88,
     "metadata": {},
     "output_type": "execute_result"
    },
    {
     "data": {
      "image/png": "[encoded data removed]",
      "text/plain": [
       "<Figure size 640x480 with 1 Axes>"
      ]
     },
     "metadata": {},
     "output_type": "display_data"
    }
   ],
   "source": [
    "sns.distplot(iris['sepal-length'], hist=True, kde = True, bins= int(180/5), color = 'orange')\n",
    "# alternative:\n",
    "# sns.displot(iris['sepal-length'], kde=True, bins=int(180/5), color='orange')\n",
    "# sns.histplot(iris['sepal-length'], kde=True, bins=int(180/5), color='orange')"
   ]
  },
  {
   "cell_type": "markdown",
   "id": "069080ba",
   "metadata": {},
   "source": [
    "## Variance compute"
   ]
  },
  {
   "cell_type": "markdown",
   "id": "2937c817",
   "metadata": {},
   "source": [
    "$ \\sigma^{2}=\\left({\\sum_{i = 1}^{N}(x_i-\\mu)^2\\over N}\\right)$"
   ]
  },
  {
   "cell_type": "code",
   "execution_count": 89,
   "id": "d7955798",
   "metadata": {},
   "outputs": [
    {
     "data": {
      "text/plain": [
       "0.6856935123042505"
      ]
     },
     "execution_count": 89,
     "metadata": {},
     "output_type": "execute_result"
    }
   ],
   "source": [
    "variance = iris['sepal-length'].var()\n",
    "variance"
   ]
  },
  {
   "cell_type": "markdown",
   "id": "8a8b0191",
   "metadata": {},
   "source": [
    "## Standar desviation"
   ]
  },
  {
   "cell_type": "markdown",
   "id": "1f865aa3",
   "metadata": {},
   "source": [
    "$ \\sqrt{\\sigma^2} $"
   ]
  },
  {
   "cell_type": "code",
   "execution_count": 90,
   "id": "02c2e549",
   "metadata": {},
   "outputs": [
    {
     "data": {
      "text/plain": [
       "0.8280661279778629"
      ]
     },
     "execution_count": 90,
     "metadata": {},
     "output_type": "execute_result"
    }
   ],
   "source": [
    "std_deviation = iris['sepal-length'].std()\n",
    "std_deviation"
   ]
  },
  {
   "cell_type": "markdown",
   "id": "27e1c68a",
   "metadata": {},
   "source": [
    "## Mean"
   ]
  },
  {
   "cell_type": "code",
   "execution_count": 91,
   "id": "659ac9de",
   "metadata": {},
   "outputs": [
    {
     "data": {
      "text/plain": [
       "5.843333333333334"
      ]
     },
     "execution_count": 91,
     "metadata": {},
     "output_type": "execute_result"
    }
   ],
   "source": [
    "mean = iris['sepal-length'].mean()\n",
    "mean"
   ]
  },
  {
   "cell_type": "markdown",
   "id": "8416b900",
   "metadata": {},
   "source": [
    "## Percentage"
   ]
  },
  {
   "cell_type": "code",
   "execution_count": 92,
   "id": "45257ec4",
   "metadata": {},
   "outputs": [
    {
     "data": {
      "text/plain": [
       "14.171125977944032"
      ]
     },
     "execution_count": 92,
     "metadata": {},
     "output_type": "execute_result"
    }
   ],
   "source": [
    "std_deviation*100/mean"
   ]
  },
  {
   "cell_type": "code",
   "execution_count": 93,
   "id": "5f6fa6c9",
   "metadata": {},
   "outputs": [
    {
     "data": {
      "text/plain": [
       "<matplotlib.legend.Legend at 0x235c2baa350>"
      ]
     },
     "execution_count": 93,
     "metadata": {},
     "output_type": "execute_result"
    },
    {
     "data": {
      "image/png": "[encoded data removed]",
      "text/plain": [
       "<Figure size 640x480 with 1 Axes>"
      ]
     },
     "metadata": {},
     "output_type": "display_data"
    }
   ],
   "source": [
    "plt.axvline(np.mean(iris['sepal-length']), color='red', linestyle='dashed', linewidth=2, label='Media')\n",
    "plt.axvline(np.mean(iris['sepal-length']) + std_desviation, color='green', linestyle='dashed', linewidth=2, label='Mean + Standar deviation')\n",
    "plt.axvline(np.mean(iris['sepal-length']) - std_desviation, color='green', linestyle='dashed', linewidth=2, label='Mean - Standar deviation ')\n",
    "plt.xlabel('Value')\n",
    "plt.ylabel('Frecuency')\n",
    "plt.legend()"
   ]
  },
  {
   "cell_type": "markdown",
   "id": "09b59e52",
   "metadata": {},
   "source": [
    "## Sample creation with simple random sampling"
   ]
  },
  {
   "cell_type": "code",
   "execution_count": 94,
   "id": "a972042a",
   "metadata": {},
   "outputs": [
    {
     "data": {
      "text/html": [
       "<div>\n",
       "<style scoped>\n",
       "    .dataframe tbody tr th:only-of-type {\n",
       "        vertical-align: middle;\n",
       "    }\n",
       "\n",
       "    .dataframe tbody tr th {\n",
       "        vertical-align: top;\n",
       "    }\n",
       "\n",
       "    .dataframe thead th {\n",
       "        text-align: right;\n",
       "    }\n",
       "</style>\n",
       "<table border=\"1\" class=\"dataframe\">\n",
       "  <thead>\n",
       "    <tr style=\"text-align: right;\">\n",
       "      <th></th>\n",
       "      <th>sepal-length</th>\n",
       "      <th>sepal-width</th>\n",
       "      <th>petal-length</th>\n",
       "      <th>petal-width</th>\n",
       "      <th>class</th>\n",
       "    </tr>\n",
       "  </thead>\n",
       "  <tbody>\n",
       "    <tr>\n",
       "      <th>29</th>\n",
       "      <td>4.7</td>\n",
       "      <td>3.2</td>\n",
       "      <td>1.6</td>\n",
       "      <td>0.2</td>\n",
       "      <td>Iris-setosa</td>\n",
       "    </tr>\n",
       "    <tr>\n",
       "      <th>63</th>\n",
       "      <td>6.1</td>\n",
       "      <td>2.9</td>\n",
       "      <td>4.7</td>\n",
       "      <td>1.4</td>\n",
       "      <td>Iris-versicolor</td>\n",
       "    </tr>\n",
       "    <tr>\n",
       "      <th>60</th>\n",
       "      <td>5.0</td>\n",
       "      <td>2.0</td>\n",
       "      <td>3.5</td>\n",
       "      <td>1.0</td>\n",
       "      <td>Iris-versicolor</td>\n",
       "    </tr>\n",
       "    <tr>\n",
       "      <th>149</th>\n",
       "      <td>5.9</td>\n",
       "      <td>3.0</td>\n",
       "      <td>5.1</td>\n",
       "      <td>1.8</td>\n",
       "      <td>Iris-virginica</td>\n",
       "    </tr>\n",
       "    <tr>\n",
       "      <th>51</th>\n",
       "      <td>6.4</td>\n",
       "      <td>3.2</td>\n",
       "      <td>4.5</td>\n",
       "      <td>1.5</td>\n",
       "      <td>Iris-versicolor</td>\n",
       "    </tr>\n",
       "    <tr>\n",
       "      <th>...</th>\n",
       "      <td>...</td>\n",
       "      <td>...</td>\n",
       "      <td>...</td>\n",
       "      <td>...</td>\n",
       "      <td>...</td>\n",
       "    </tr>\n",
       "    <tr>\n",
       "      <th>1</th>\n",
       "      <td>4.9</td>\n",
       "      <td>3.0</td>\n",
       "      <td>1.4</td>\n",
       "      <td>0.2</td>\n",
       "      <td>Iris-setosa</td>\n",
       "    </tr>\n",
       "    <tr>\n",
       "      <th>87</th>\n",
       "      <td>6.3</td>\n",
       "      <td>2.3</td>\n",
       "      <td>4.4</td>\n",
       "      <td>1.3</td>\n",
       "      <td>Iris-versicolor</td>\n",
       "    </tr>\n",
       "    <tr>\n",
       "      <th>116</th>\n",
       "      <td>6.5</td>\n",
       "      <td>3.0</td>\n",
       "      <td>5.5</td>\n",
       "      <td>1.8</td>\n",
       "      <td>Iris-virginica</td>\n",
       "    </tr>\n",
       "    <tr>\n",
       "      <th>139</th>\n",
       "      <td>6.9</td>\n",
       "      <td>3.1</td>\n",
       "      <td>5.4</td>\n",
       "      <td>2.1</td>\n",
       "      <td>Iris-virginica</td>\n",
       "    </tr>\n",
       "    <tr>\n",
       "      <th>114</th>\n",
       "      <td>5.8</td>\n",
       "      <td>2.8</td>\n",
       "      <td>5.1</td>\n",
       "      <td>2.4</td>\n",
       "      <td>Iris-virginica</td>\n",
       "    </tr>\n",
       "  </tbody>\n",
       "</table>\n",
       "<p>75 rows × 5 columns</p>\n",
       "</div>"
      ],
      "text/plain": [
       "     sepal-length  sepal-width  petal-length  petal-width            class\n",
       "29            4.7          3.2           1.6          0.2      Iris-setosa\n",
       "63            6.1          2.9           4.7          1.4  Iris-versicolor\n",
       "60            5.0          2.0           3.5          1.0  Iris-versicolor\n",
       "149           5.9          3.0           5.1          1.8   Iris-virginica\n",
       "51            6.4          3.2           4.5          1.5  Iris-versicolor\n",
       "..            ...          ...           ...          ...              ...\n",
       "1             4.9          3.0           1.4          0.2      Iris-setosa\n",
       "87            6.3          2.3           4.4          1.3  Iris-versicolor\n",
       "116           6.5          3.0           5.5          1.8   Iris-virginica\n",
       "139           6.9          3.1           5.4          2.1   Iris-virginica\n",
       "114           5.8          2.8           5.1          2.4   Iris-virginica\n",
       "\n",
       "[75 rows x 5 columns]"
      ]
     },
     "execution_count": 94,
     "metadata": {},
     "output_type": "execute_result"
    }
   ],
   "source": [
    "sample = iris.sample(frac= 0.5)\n",
    "sample"
   ]
  },
  {
   "cell_type": "markdown",
   "id": "e59779aa",
   "metadata": {},
   "source": [
    "## Sample Variance"
   ]
  },
  {
   "cell_type": "code",
   "execution_count": 98,
   "id": "8d07fe55",
   "metadata": {},
   "outputs": [
    {
     "data": {
      "text/plain": [
       "0.7258630630630627"
      ]
     },
     "execution_count": 98,
     "metadata": {},
     "output_type": "execute_result"
    }
   ],
   "source": [
    "sample_variance = sample['sepal-length'].var()\n",
    "sample_variance"
   ]
  },
  {
   "cell_type": "markdown",
   "id": "82e3c5c8",
   "metadata": {},
   "source": [
    "## Sample Standar Deviation\n"
   ]
  },
  {
   "cell_type": "code",
   "execution_count": 99,
   "id": "3b64c799",
   "metadata": {},
   "outputs": [
    {
     "data": {
      "text/plain": [
       "0.851975975637261"
      ]
     },
     "execution_count": 99,
     "metadata": {},
     "output_type": "execute_result"
    }
   ],
   "source": [
    "sample_std = sample['sepal-length'].std()\n",
    "sample_std"
   ]
  },
  {
   "cell_type": "markdown",
   "id": "c4744fdc",
   "metadata": {},
   "source": [
    "## Sample Standar Deviation"
   ]
  },
  {
   "cell_type": "code",
   "execution_count": 101,
   "id": "9ed3cb2c",
   "metadata": {},
   "outputs": [
    {
     "data": {
      "text/plain": [
       "5.714666666666666"
      ]
     },
     "execution_count": 101,
     "metadata": {},
     "output_type": "execute_result"
    }
   ],
   "source": [
    "sample_mean = sample['sepal-length'].mean()\n",
    "sample_mean"
   ]
  },
  {
   "cell_type": "markdown",
   "id": "94c12ac8",
   "metadata": {},
   "source": [
    "## Sample Percentage"
   ]
  },
  {
   "cell_type": "code",
   "execution_count": 102,
   "id": "3a2273e0",
   "metadata": {},
   "outputs": [
    {
     "data": {
      "text/plain": [
       "14.908585667940875"
      ]
     },
     "execution_count": 102,
     "metadata": {},
     "output_type": "execute_result"
    }
   ],
   "source": [
    "sample_std*100/sample_mean"
   ]
  }
 ],
 "metadata": {
  "kernelspec": {
   "display_name": "Python 3 (ipykernel)",
   "language": "python",
   "name": "python3"
  },
  "language_info": {
   "codemirror_mode": {
    "name": "ipython",
    "version": 3
   },
   "file_extension": ".py",
   "mimetype": "text/x-python",
   "name": "python",
   "nbconvert_exporter": "python",
   "pygments_lexer": "ipython3",
   "version": "3.11.5"
  }
 },
 "nbformat": 4,
 "nbformat_minor": 5
}
